{
  "nbformat": 4,
  "nbformat_minor": 0,
  "metadata": {
    "colab": {
      "name": "Demo1.ipynb",
      "provenance": [],
      "authorship_tag": "ABX9TyNKWP1d8dfyLmeu+WTWhzsr",
      "include_colab_link": true
    },
    "kernelspec": {
      "name": "python3",
      "display_name": "Python 3"
    },
    "language_info": {
      "name": "python"
    }
  },
  "cells": [
    {
      "cell_type": "markdown",
      "metadata": {
        "id": "view-in-github",
        "colab_type": "text"
      },
      "source": [
        "<a href=\"https://colab.research.google.com/github/mazette04/CPEN-21A-ECE-2-1/blob/main/Demo1.ipynb\" target=\"_parent\"><img src=\"https://colab.research.google.com/assets/colab-badge.svg\" alt=\"Open In Colab\"/></a>"
      ]
    },
    {
      "cell_type": "markdown",
      "metadata": {
        "id": "0JSXDTh_rZiN"
      },
      "source": [
        "###Intro to Python Programming"
      ]
    },
    {
      "cell_type": "code",
      "metadata": {
        "colab": {
          "base_uri": "https://localhost:8080/"
        },
        "id": "N0AFZHzhrDum",
        "outputId": "a755514c-98a0-4275-aedc-7f2a659bbf9d"
      },
      "source": [
        "#Python Indention\n",
        "if 5>2:\n",
        "  print(\"Five is greater than two\")"
      ],
      "execution_count": 1,
      "outputs": [
        {
          "output_type": "stream",
          "name": "stdout",
          "text": [
            "Five is greater than two\n"
          ]
        }
      ]
    },
    {
      "cell_type": "markdown",
      "metadata": {
        "id": "VP9JCmFOto_z"
      },
      "source": [
        "##Python Variable"
      ]
    },
    {
      "cell_type": "code",
      "metadata": {
        "colab": {
          "base_uri": "https://localhost:8080/"
        },
        "id": "qEuRTET4tuiL",
        "outputId": "6c0c9122-d062-4d14-9ccc-011424c108df"
      },
      "source": [
        "x = 1\n",
        "a, b = 0, 1\n",
        "a,b,c= \"zero\",\"one\",\"two\"\n",
        "print(x)\n",
        "print(a)\n",
        "print(b)\n",
        "print(c)"
      ],
      "execution_count": 15,
      "outputs": [
        {
          "output_type": "stream",
          "name": "stdout",
          "text": [
            "1\n",
            "zero\n",
            "one\n",
            "two\n"
          ]
        }
      ]
    },
    {
      "cell_type": "code",
      "metadata": {
        "colab": {
          "base_uri": "https://localhost:8080/"
        },
        "id": "v6usX-zHuQSs",
        "outputId": "d97ccf06-f100-45a6-a532-ff6a55b392d8"
      },
      "source": [
        "d = \"Sally\" #This is a string\n",
        "D = \"Ana\"\n",
        "print(d)\n",
        "e = 'John'\n",
        "print(e)\n",
        "print(D)"
      ],
      "execution_count": 14,
      "outputs": [
        {
          "output_type": "stream",
          "name": "stdout",
          "text": [
            "Sally\n",
            "John\n",
            "Ana\n"
          ]
        }
      ]
    },
    {
      "cell_type": "code",
      "metadata": {
        "colab": {
          "base_uri": "https://localhost:8080/"
        },
        "id": "3S5IX-P4vCDH",
        "outputId": "aee3b89c-2e4f-49ba-c65f-c6b832da1a9c"
      },
      "source": [
        "print(type(d))   #This is a Type function\n",
        "print(type(x))"
      ],
      "execution_count": 13,
      "outputs": [
        {
          "output_type": "stream",
          "name": "stdout",
          "text": [
            "<class 'str'>\n",
            "<class 'int'>\n"
          ]
        }
      ]
    },
    {
      "cell_type": "markdown",
      "metadata": {
        "id": "ZPrYQYrOufnp"
      },
      "source": [
        "##Casting"
      ]
    },
    {
      "cell_type": "code",
      "metadata": {
        "colab": {
          "base_uri": "https://localhost:8080/"
        },
        "id": "ZLGV-fxdumoT",
        "outputId": "8ae75a10-fdec-480f-a7e8-adadf24b8845"
      },
      "source": [
        "f = float(4)\n",
        "print(f)\n",
        "g = int(5)\n",
        "print(g)"
      ],
      "execution_count": 11,
      "outputs": [
        {
          "output_type": "stream",
          "name": "stdout",
          "text": [
            "4.0\n",
            "5\n"
          ]
        }
      ]
    },
    {
      "cell_type": "markdown",
      "metadata": {
        "id": "62UgtbrzwHrr"
      },
      "source": [
        "##Multiple Variables with One Value"
      ]
    },
    {
      "cell_type": "code",
      "metadata": {
        "colab": {
          "base_uri": "https://localhost:8080/"
        },
        "id": "jcIGi9FEwL0j",
        "outputId": "e4936109-a735-425c-ef21-0f942920a76c"
      },
      "source": [
        "x = y = z = \"four\"\n",
        "print(x)\n",
        "print(y)\n",
        "print(z)"
      ],
      "execution_count": 16,
      "outputs": [
        {
          "output_type": "stream",
          "name": "stdout",
          "text": [
            "four\n",
            "four\n",
            "four\n"
          ]
        }
      ]
    },
    {
      "cell_type": "code",
      "metadata": {
        "colab": {
          "base_uri": "https://localhost:8080/"
        },
        "id": "Vi-hUE2CwlUq",
        "outputId": "a8fd4ca9-6b9b-4fad-b24a-bbda1ff5e118"
      },
      "source": [
        "x = \"enjoying\"\n",
        "print(\"Python Programming is\" \" \" + x)"
      ],
      "execution_count": 18,
      "outputs": [
        {
          "output_type": "stream",
          "name": "stdout",
          "text": [
            "Python Programming is enjoying\n"
          ]
        }
      ]
    },
    {
      "cell_type": "markdown",
      "metadata": {
        "id": "O-EuPaVAxI7g"
      },
      "source": [
        "#Operations in Python"
      ]
    },
    {
      "cell_type": "code",
      "metadata": {
        "colab": {
          "base_uri": "https://localhost:8080/"
        },
        "id": "OQDAGX0jxM__",
        "outputId": "ff9f95ec-ea4f-437c-8829-afab7691f563"
      },
      "source": [
        "x = 5\n",
        "y = 7\n",
        "x += y #This is the same as x = x + y\n",
        "print(x)\n",
        "\n"
      ],
      "execution_count": 26,
      "outputs": [
        {
          "output_type": "stream",
          "name": "stdout",
          "text": [
            "12\n"
          ]
        }
      ]
    },
    {
      "cell_type": "code",
      "metadata": {
        "colab": {
          "base_uri": "https://localhost:8080/"
        },
        "id": "wdGldoz0zP4c",
        "outputId": "447f2e5c-18ff-4c2d-f10e-9a88eaadc16c"
      },
      "source": [
        "x = 5\n",
        "y = 7\n",
        "\n",
        "not(x>y or y==x)"
      ],
      "execution_count": 31,
      "outputs": [
        {
          "output_type": "execute_result",
          "data": {
            "text/plain": [
              "True"
            ]
          },
          "metadata": {},
          "execution_count": 31
        }
      ]
    },
    {
      "cell_type": "code",
      "metadata": {
        "colab": {
          "base_uri": "https://localhost:8080/"
        },
        "id": "Q3LLHSuH0HcN",
        "outputId": "f907048f-e171-4666-ef3d-ff3afc85070e"
      },
      "source": [
        "x is y"
      ],
      "execution_count": 32,
      "outputs": [
        {
          "output_type": "execute_result",
          "data": {
            "text/plain": [
              "False"
            ]
          },
          "metadata": {},
          "execution_count": 32
        }
      ]
    },
    {
      "cell_type": "code",
      "metadata": {
        "colab": {
          "base_uri": "https://localhost:8080/"
        },
        "id": "SJ-wENfb0LfG",
        "outputId": "7041f138-cb5b-4037-c64d-2893cfdc104e"
      },
      "source": [
        "x is not y"
      ],
      "execution_count": 33,
      "outputs": [
        {
          "output_type": "execute_result",
          "data": {
            "text/plain": [
              "True"
            ]
          },
          "metadata": {},
          "execution_count": 33
        }
      ]
    }
  ]
}